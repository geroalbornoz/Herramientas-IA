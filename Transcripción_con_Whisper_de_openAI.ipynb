{
  "cells": [
    {
      "cell_type": "markdown",
      "metadata": {
        "id": "view-in-github",
        "colab_type": "text"
      },
      "source": [
        "<a href=\"https://colab.research.google.com/github/geroalbornoz/geroalbornoz.github.io/blob/master/Transcripci%C3%B3n_con_Whisper_de_openAI.ipynb\" target=\"_parent\"><img src=\"https://colab.research.google.com/assets/colab-badge.svg\" alt=\"Open In Colab\"/></a>"
      ]
    },
    {
      "cell_type": "markdown",
      "source": [
        "# **Transcripción con IA Whisper**\n",
        "\n",
        "Script en Python para aprovechar la API de Transcripción que nos brinda la IA Whisper de la empresa OpenAI\n",
        "\n",
        "\n",
        "Elaborado por @geroalbornoz únicamente a fines a didáticos y/o educativos. Cualquier duda o consulta, a disposición. Gracias!\n",
        "\n",
        "\n",
        "Hay un video tutorial de cómo correr este script para que puedas ver un ejemplo completo:\n",
        "\n",
        "https://www.youtube.com/watch?v=L1F5PFMmFWs"
      ],
      "metadata": {
        "id": "D9kL7SjpqwV9"
      }
    },
    {
      "cell_type": "code",
      "execution_count": null,
      "metadata": {
        "id": "lEDLWQW_-2bD",
        "cellView": "form"
      },
      "outputs": [],
      "source": [
        "#@title Carga del archivo de Audio o video\n",
        "#@markdown Por favor elija un archivo de audio o video  (mp3, mp4, wmv, etc)\n",
        "\n",
        "from google.colab import files\n",
        "\n",
        "audio_a_transcbrir = files.upload()  "
      ]
    },
    {
      "cell_type": "code",
      "execution_count": null,
      "metadata": {
        "id": "0CMOlUf50hmF",
        "cellView": "form"
      },
      "outputs": [],
      "source": [
        "#@title Instalación de la librería Whisper (paso necesario para utilizarla en Google Colab)\n",
        "!pip install git+https://github.com/openai/whisper.git \n",
        "!pip install --upgrade --no-deps --force-reinstall git+https://github.com/openai/whisper.git\n"
      ]
    },
    {
      "cell_type": "code",
      "execution_count": null,
      "metadata": {
        "id": "sQ1uFXBACeDW",
        "cellView": "form"
      },
      "outputs": [],
      "source": [
        "#@title Carga del Modelo de IA y generación de la Transcripción\n",
        "import whisper\n",
        "\n",
        "model = whisper.load_model(\"medium\")\n",
        "\n",
        "nombre = list(audio_a_transcbrir.keys())\n",
        "nombre = nombre[0]\n",
        "result = model.transcribe(\"/content/{}\".format(nombre))\n",
        "#print(result[\"text\"])\n",
        "#resultado = result[\"text\"]\n",
        "\n",
        "segments = result[\"segments\"]\n",
        "\n",
        "largo =len(segments)\n",
        "\n",
        "texto_segment = result[\"segments\"][0][\"text\"]\n",
        "#texto_segment\n",
        "\n",
        "print(\"Lenguaje detectado: \",result[\"language\"])"
      ]
    },
    {
      "cell_type": "code",
      "execution_count": null,
      "metadata": {
        "id": "GcHpoIGvR5WK",
        "colab": {
          "base_uri": "https://localhost:8080/",
          "height": 17
        },
        "cellView": "form",
        "outputId": "015e7914-5441-41f1-9bc6-9e141ccc9f85"
      },
      "outputs": [
        {
          "output_type": "display_data",
          "data": {
            "text/plain": [
              "<IPython.core.display.Javascript object>"
            ],
            "application/javascript": [
              "\n",
              "    async function download(id, filename, size) {\n",
              "      if (!google.colab.kernel.accessAllowed) {\n",
              "        return;\n",
              "      }\n",
              "      const div = document.createElement('div');\n",
              "      const label = document.createElement('label');\n",
              "      label.textContent = `Downloading \"${filename}\": `;\n",
              "      div.appendChild(label);\n",
              "      const progress = document.createElement('progress');\n",
              "      progress.max = size;\n",
              "      div.appendChild(progress);\n",
              "      document.body.appendChild(div);\n",
              "\n",
              "      const buffers = [];\n",
              "      let downloaded = 0;\n",
              "\n",
              "      const channel = await google.colab.kernel.comms.open(id);\n",
              "      // Send a message to notify the kernel that we're ready.\n",
              "      channel.send({})\n",
              "\n",
              "      for await (const message of channel.messages) {\n",
              "        // Send a message to notify the kernel that we're ready.\n",
              "        channel.send({})\n",
              "        if (message.buffers) {\n",
              "          for (const buffer of message.buffers) {\n",
              "            buffers.push(buffer);\n",
              "            downloaded += buffer.byteLength;\n",
              "            progress.value = downloaded;\n",
              "          }\n",
              "        }\n",
              "      }\n",
              "      const blob = new Blob(buffers, {type: 'application/binary'});\n",
              "      const a = document.createElement('a');\n",
              "      a.href = window.URL.createObjectURL(blob);\n",
              "      a.download = filename;\n",
              "      div.appendChild(a);\n",
              "      a.click();\n",
              "      div.remove();\n",
              "    }\n",
              "  "
            ]
          },
          "metadata": {}
        },
        {
          "output_type": "display_data",
          "data": {
            "text/plain": [
              "<IPython.core.display.Javascript object>"
            ],
            "application/javascript": [
              "download(\"download_f660ae29-c311-4672-9e60-5be5699f8090\", \"12 - Andr\\u00e9s Calamaro - Crimenes Perfectos.txt\", 970)"
            ]
          },
          "metadata": {}
        }
      ],
      "source": [
        "#@title Guardado en archivo Txt y descarga a disco local\n",
        "nombre = nombre[:-4]\n",
        "\n",
        "with open('{}.txt'.format(nombre), 'w') as fid: # 'w' creates a new file\n",
        "  for segment in range(0,largo):\n",
        "    fid.write(result[\"segments\"][segment][\"text\"])\n",
        "    fid.write(\"\\n\")    \n",
        "    \n",
        "files.download(\"/content/{}.txt\".format(nombre))\n"
      ]
    },
    {
      "cell_type": "markdown",
      "metadata": {
        "id": "AeYrbQK1BoJI"
      },
      "source": [
        "\n",
        "\n",
        "Fuente: \n",
        "\n",
        "https://github.com/openai/whisper\n",
        "\n",
        "https://openai.com/blog/whisper/\n"
      ]
    }
  ],
  "metadata": {
    "accelerator": "GPU",
    "colab": {
      "provenance": [],
      "include_colab_link": true
    },
    "gpuClass": "standard",
    "kernelspec": {
      "display_name": "Python 3",
      "name": "python3"
    },
    "language_info": {
      "name": "python"
    }
  },
  "nbformat": 4,
  "nbformat_minor": 0
}